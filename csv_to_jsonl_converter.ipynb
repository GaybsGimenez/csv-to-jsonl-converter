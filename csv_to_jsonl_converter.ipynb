{
  "nbformat": 4,
  "nbformat_minor": 0,
  "metadata": {
    "colab": {
      "provenance": []
    },
    "kernelspec": {
      "name": "python3",
      "display_name": "Python 3"
    },
    "language_info": {
      "name": "python"
    }
  },
  "cells": [
    {
      "cell_type": "markdown",
      "source": [
        "# Conversor de Arquivo CSV para JSONL\n",
        "\n",
        "Este script converte um arquivo CSV contendo colunas de perguntas e respostas em diferentes formatos JSONL,\n",
        "utilizados para ajuste fino de modelos de IA.\n",
        "\n",
        "## O que é Ajuste Fino?\n",
        "Ajuste fino (fine-tuning) é o processo de treinamento adicional de um modelo de IA já existente\n",
        "com dados específicos, permitindo que ele aprenda padrões e contextos mais específicos para determinada aplicação.\n",
        "\n",
        "## Formato de Entrada e Saída:\n",
        "O arquivo CSV deve conter duas colunas:\n",
        "- `input:` -> Pergunta do usuário\n",
        "- `output:` -> Resposta correspondente\n",
        "\n",
        "Os dados serão convertidos para diferentes formatos JSONL para serem utilizados em treinamentos de IA.\n",
        "\n",
        "1.   Item da lista\n",
        "2.   Item da lista\n",
        "\n"
      ],
      "metadata": {
        "id": "iYCMcDocU3iV"
      }
    },
    {
      "cell_type": "markdown",
      "source": [
        "## Converte CSV em JSONL\n",
        "\n",
        "para o seguinte formato:\n",
        "\n",
        "\n",
        "\n",
        "```\n",
        "{\"input:\":\"sua pergunta\",\"output:\":\"A resposta para a pergunta\"}\n",
        "```\n",
        "\n"
      ],
      "metadata": {
        "id": "YSGBSVfAZg1A"
      }
    },
    {
      "cell_type": "code",
      "execution_count": 7,
      "metadata": {
        "id": "HRikPNQuMFnd"
      },
      "outputs": [],
      "source": [
        "import pandas as pd\n",
        "\n",
        "# Carregar CSV (com colunas 'input' e 'output')\n",
        "df = pd.read_csv(\"/content/variacoes_perguntas.csv\")\n",
        "\n",
        "# Salvar como JSONL\n",
        "df.to_json(\"formatted_dataset_1.jsonl\", orient=\"records\", lines=True)\n"
      ]
    },
    {
      "cell_type": "markdown",
      "source": [
        "## Converte CSV em JSONL\n",
        "\n",
        "para o seguinte formato:\n",
        "\n",
        "\n",
        "\n",
        "```\n",
        "{\"messages\": [{\"role\": \"user\", \"content\": \"Sua Pergunta\"}, {\"role\": \"assistant\", \"content\": \"Resposta para a pergunta\"}]}\n",
        "```\n",
        "\n"
      ],
      "metadata": {
        "id": "EvsTMi3LZ_3v"
      }
    },
    {
      "cell_type": "code",
      "source": [
        "import pandas as pd\n",
        "import json\n",
        "\n",
        "# Carregar CSV (com colunas 'input' e 'output')\n",
        "df = pd.read_csv(\"/content/variacoes_perguntas.csv\")\n",
        "\n",
        "# Criar lista de mensagens no formato correto\n",
        "data = []\n",
        "for _, row in df.iterrows():\n",
        "    formatted_entry = {\n",
        "        \"messages\": [\n",
        "            {\"role\": \"user\", \"content\": row[\"input\"]},\n",
        "            {\"role\": \"assistant\", \"content\": row[\"output\"]}\n",
        "        ]\n",
        "    }\n",
        "    data.append(formatted_entry)\n",
        "\n",
        "# Salvar no formato JSONL correto\n",
        "with open(\"formatted_dataset_2.jsonl\", \"w\", encoding=\"utf-8\") as f:\n",
        "    for entry in data:\n",
        "        f.write(json.dumps(entry, ensure_ascii=False) + \"\\n\")\n",
        "\n",
        "print(\"✅ Conversão concluída! Arquivo salvo como 'dataset_corrected.jsonl'.\")\n"
      ],
      "metadata": {
        "colab": {
          "base_uri": "https://localhost:8080/"
        },
        "id": "-mCIEh5uO7fH",
        "outputId": "7111e58f-f032-407c-f70a-54d16dc2e556"
      },
      "execution_count": 8,
      "outputs": [
        {
          "output_type": "stream",
          "name": "stdout",
          "text": [
            "✅ Conversão concluída! Arquivo salvo como 'dataset_corrected.jsonl'.\n"
          ]
        }
      ]
    },
    {
      "cell_type": "markdown",
      "source": [
        "## Converte CSV em JSONL\n",
        "\n",
        "\n",
        "para o seguinte formato:\n",
        "\n",
        "\n",
        "\n",
        "```\n",
        "{\"contents\": [{\"role\": \"user\", \"parts\": [{\"text\": \"Sua pergunta\"}]}, {\"role\": \"model\", \"parts\": [{\"text\": \"Resposta para a pergunta\"}]}]}\n",
        "```\n"
      ],
      "metadata": {
        "id": "NRPyQogAaY8h"
      }
    },
    {
      "cell_type": "code",
      "source": [
        "import pandas as pd\n",
        "import json\n",
        "\n",
        "# Carregar CSV (com colunas 'input' e 'output')\n",
        "df = pd.read_csv(\"/content/variacoes_perguntas.csv\")\n",
        "\n",
        "# Criar lista de mensagens no formato correto\n",
        "data = []\n",
        "for _, row in df.iterrows():\n",
        "    formatted_entry = {\n",
        "        \"contents\": [\n",
        "            {\"role\": \"user\", \"parts\": [{\"text\": row[\"input\"]}]},  # Entrada do usuário\n",
        "            {\"role\": \"model\", \"parts\": [{\"text\": row[\"output\"]}]}  # Resposta do modelo\n",
        "        ]\n",
        "    }\n",
        "    data.append(formatted_entry)\n",
        "\n",
        "# Salvar no formato JSONL correto\n",
        "with open(\"formatted_dataset_3.jsonl\", \"w\", encoding=\"utf-8\") as f:\n",
        "    for entry in data:\n",
        "        f.write(json.dumps(entry, ensure_ascii=False) + \"\\n\")\n",
        "\n",
        "print(\"✅ Conversão concluída! Arquivo salvo como 'dataset_corrected.jsonl'.\")\n"
      ],
      "metadata": {
        "colab": {
          "base_uri": "https://localhost:8080/"
        },
        "id": "pxxzAQzeRe5d",
        "outputId": "16e97373-8b9f-46de-9f48-461a11c576b3"
      },
      "execution_count": 9,
      "outputs": [
        {
          "output_type": "stream",
          "name": "stdout",
          "text": [
            "✅ Conversão concluída! Arquivo salvo como 'dataset_corrected.jsonl'.\n"
          ]
        }
      ]
    }
  ]
}